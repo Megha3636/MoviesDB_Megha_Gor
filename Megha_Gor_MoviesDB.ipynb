{
  "nbformat": 4,
  "nbformat_minor": 0,
  "metadata": {
    "colab": {
      "name": "Megha_Gor_MoviesDB.ipynb",
      "provenance": [],
      "collapsed_sections": []
    },
    "kernelspec": {
      "name": "python3",
      "display_name": "Python 3"
    },
    "language_info": {
      "name": "python"
    }
  },
  "cells": [
    {
      "cell_type": "markdown",
      "metadata": {
        "id": "-HTYY3N9eqCA"
      },
      "source": [
        "Importing SQLite3 Module and Connecting to the Database and Creating a Database"
      ]
    },
    {
      "cell_type": "code",
      "metadata": {
        "id": "MbEE4jLpd2Rz"
      },
      "source": [
        "import sqlite3\n",
        "connection = sqlite3.connect(\"movie.db\")"
      ],
      "execution_count": 17,
      "outputs": []
    },
    {
      "cell_type": "markdown",
      "metadata": {
        "id": "9j4ifdoLe7QY"
      },
      "source": [
        "Creating a cursor to execute queries and Creating a Table"
      ]
    },
    {
      "cell_type": "code",
      "metadata": {
        "colab": {
          "base_uri": "https://localhost:8080/"
        },
        "id": "Il3zez4pfBsP",
        "outputId": "bcf540b4-b20f-468b-e2d2-01ca4dfe717b"
      },
      "source": [
        "cursor = connection.cursor()\n",
        "cursor.execute(\" CREATE TABLE movies (name TEXT, actor TEXT, actress TEXT, director TEXT, year INTEGER)\")\n"
      ],
      "execution_count": 18,
      "outputs": [
        {
          "output_type": "execute_result",
          "data": {
            "text/plain": [
              "<sqlite3.Cursor at 0x7f1a37cee960>"
            ]
          },
          "metadata": {},
          "execution_count": 18
        }
      ]
    },
    {
      "cell_type": "markdown",
      "metadata": {
        "id": "7SPgZMQFfvv4"
      },
      "source": [
        "Inserting Values into the Movies Table"
      ]
    },
    {
      "cell_type": "code",
      "metadata": {
        "colab": {
          "base_uri": "https://localhost:8080/"
        },
        "id": "FUPVCxfHf4Ce",
        "outputId": "a04b7dec-40d6-4e4a-8df3-ec7275f0ad54"
      },
      "source": [
        "cursor.execute(\"INSERT INTO movies VALUES('Dream Girl','Ayushmann Khurrana','Nushrratt Bharuccha','Raaj Shaandilyaa',2019)\")\n",
        "cursor.execute(\"INSERT INTO movies VALUES('10 Things I Hate About You', 'Heath Ledger','Julia Stiles','Gil Junger',1999)\")\n",
        "cursor.execute(\"INSERT INTO movies VALUES('Ready Player One','Tye Sheridan','Olivia Cooke','Steven Spielberg',2018)\")\n",
        "cursor.execute(\"INSERT INTO movies VALUES('Bareilly Ki Barfi','Ayushmann Khurrana','Kriti Sanon','Ashwiny Iyer Tiwari',2017)\")\n",
        "cursor.execute(\"INSERT INTO movies VALUES('3-idiots','Aamir Khan','Kareena Kapoor','Rajkumar Hirani',2009)\")"
      ],
      "execution_count": 19,
      "outputs": [
        {
          "output_type": "execute_result",
          "data": {
            "text/plain": [
              "<sqlite3.Cursor at 0x7f1a37cee960>"
            ]
          },
          "metadata": {},
          "execution_count": 19
        }
      ]
    },
    {
      "cell_type": "markdown",
      "metadata": {
        "id": "sVaUShL6h650"
      },
      "source": [
        "Reading Data from the Database and Simple SELECT statement to query all rows from the Movies table"
      ]
    },
    {
      "cell_type": "code",
      "metadata": {
        "colab": {
          "base_uri": "https://localhost:8080/"
        },
        "id": "1o5oMNZFiCu1",
        "outputId": "7f8f203a-bbf6-4d2f-e626-9af4be35503b"
      },
      "source": [
        "rows = cursor.execute(\"SELECT * FROM movies\").fetchall()\n",
        "for i in rows:\n",
        "  name,actor,actress,director,year = i\n",
        "  print(name+\"\\t\"+actor+\"\\t\"+actress+\"\\t\"+director+\"\\t\"+str(year))\n"
      ],
      "execution_count": 20,
      "outputs": [
        {
          "output_type": "stream",
          "name": "stdout",
          "text": [
            "Dream Girl\tAyushmann Khurrana\tNushrratt Bharuccha\tRaaj Shaandilyaa\t2019\n",
            "10 Things I Hate About You\tHeath Ledger\tJulia Stiles\tGil Junger\t1999\n",
            "Ready Player One\tTye Sheridan\tOlivia Cooke\tSteven Spielberg\t2018\n",
            "Bareilly Ki Barfi\tAyushmann Khurrana\tKriti Sanon\tAshwiny Iyer Tiwari\t2017\n",
            "3-idiots\tAamir Khan\tKareena Kapoor\tRajkumar Hirani\t2009\n"
          ]
        }
      ]
    },
    {
      "cell_type": "markdown",
      "metadata": {
        "id": "3gLuX7Snj9aF"
      },
      "source": [
        "Query with parameter like actor name to select movies based on the actor's name."
      ]
    },
    {
      "cell_type": "code",
      "metadata": {
        "colab": {
          "base_uri": "https://localhost:8080/"
        },
        "id": "0np83ygnkOTB",
        "outputId": "81148751-98aa-4726-a028-90c7f218b7ea"
      },
      "source": [
        "actor_rows = cursor.execute(\"SELECT * FROM movies WHERE actor='Ayushmann Khurrana'\").fetchall()\n",
        "for i in actor_rows:\n",
        "  name,actor,actress,director,year = i\n",
        "  print(name+\"\\t\"+actor+\"\\t\"+actress+\"\\t\"+director+\"\\t\"+str(year))"
      ],
      "execution_count": 21,
      "outputs": [
        {
          "output_type": "stream",
          "name": "stdout",
          "text": [
            "Dream Girl\tAyushmann Khurrana\tNushrratt Bharuccha\tRaaj Shaandilyaa\t2019\n",
            "Bareilly Ki Barfi\tAyushmann Khurrana\tKriti Sanon\tAshwiny Iyer Tiwari\t2017\n"
          ]
        }
      ]
    }
  ]
}